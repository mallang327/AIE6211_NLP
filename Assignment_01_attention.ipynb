{
 "cells": [
  {
   "cell_type": "markdown",
   "metadata": {
    "id": "zrt175qQ4IGJ",
    "tags": []
   },
   "source": [
    "# AIE6211 NLP 1st Assignment - Neural Machine Translation by Jointly Learning to Align and Translate\n",
    "### <div style=\"text-align: right\"> 120220224 정원 </div>\n",
    "\n",
    "[Colab Example Github Link](https://github.com/bentrevett/pytorch-seq2seq)\n",
    "\n",
    "In this third notebook on sequence-to-sequence models using PyTorch and TorchText, we'll be implementing the model from [Neural Machine Translation by Jointly Learning to Align and Translate](https://arxiv.org/abs/1409.0473). This model achives our best perplexity yet, ~27 compared to ~34 for the previous model.\n",
    "\n",
    "## Dependency\n",
    "torchtext=0.11.0 버전을 받을 경우 dependency에 따라 자동으로 torch=1.10.1+cu102를 설치하게 됨\n",
    "\n",
    "이 때 torch 1.10.1 버전의 경우 cuda 10.2 & gcc 8 버전과 호환\n",
    "\n",
    "RTX 3090 GPU의 경우 cuda 11버전부터만 동작하여 torchtext 이전 버전을 사용할 수 없다.\n",
    "\n",
    "## Introduction\n",
    "\n",
    "이번에 분석할 Neural Machine Translation by Jointly Learning to Align and Translate 논문은 기존 번역 모델에서 사용하던 Encoder-Decoder 구조에 attention 개념을 추가하여 input sentence의 전체적인 정보를 context vector에 담을 수 있도록 한다.\n",
    "\n",
    "아래 그림은 기존의 일반적인 encoder-decoder model이다.\n",
    "\n",
    "![](https://github.com/bentrevett/pytorch-seq2seq/blob/master/assets/seq2seq1.png?raw=1)\n",
    "\n",
    "Context vector $z$가 input sentence의 마지막 단어 블록을 통해 추출된 정보만을 $z$의 input으로 사용하기 때문에 문장이 길어질 경우 앞선 단어의 정보가 많이 희석되는 문제가 있었다.\n",
    "\n",
    "아래 그림은 decoder 단에서 모든 token을 예측할 때 context vector를 input 중 하나로 사용하여 보다 정확한 예측값을 얻게하는 모델 구조이다.\n",
    "\n",
    "![](https://github.com/bentrevett/pytorch-seq2seq/blob/master/assets/seq2seq7.png?raw=1)\n",
    "\n",
    "하지만 이러한 모델 또한 source 문장의 마지막 block 정보만을 context vector $z$에 싣게 된다는 단점은 그대로 존재한다. 이를 해결하기 위해 논문에서는 attention이라는 개념을 도입했고 source 문장의 모든 token의 정보를 가지고 있으며 softmax를 통해 각 요소가 0과 1 사이, 총합이 1이 되는 attention vector, $a$를 다음 token을 예측할 때 함께 사용하게 된다. \n",
    "\n",
    "$$w = \\sum_{i}a_ih_i$$\n",
    "\n",
    "![](https://github.com/mallang327/AIE6211_NLP/blob/main/resources/nmt_image.png?raw=1)\n",
    "\n",
    "\n",
    "## Preparing Data\n",
    "\n"
   ]
  },
  {
   "cell_type": "code",
   "execution_count": 53,
   "metadata": {
    "id": "O4Gd98f64IGN",
    "tags": []
   },
   "outputs": [],
   "source": [
    "import torch\n",
    "import torch.nn as nn\n",
    "import torch.optim as optim\n",
    "import torch.nn.functional as F\n",
    "\n",
    "from torchtext.legacy.datasets import Multi30k\n",
    "from torchtext.legacy.data import Field, BucketIterator\n",
    "\n",
    "import spacy\n",
    "import numpy as np\n",
    "\n",
    "import random\n",
    "import math\n",
    "import time\n",
    "import pdb"
   ]
  },
  {
   "cell_type": "markdown",
   "metadata": {},
   "source": [
    "학습시간을 확인하기 위해 tqdm import"
   ]
  },
  {
   "cell_type": "code",
   "execution_count": 54,
   "metadata": {
    "tags": []
   },
   "outputs": [],
   "source": [
    "torch.__version__\n",
    "from tqdm.auto import tqdm"
   ]
  },
  {
   "cell_type": "markdown",
   "metadata": {
    "id": "ogPdz_gv4IGO"
   },
   "source": [
    "Set the random seeds for reproducability."
   ]
  },
  {
   "cell_type": "markdown",
   "metadata": {},
   "source": [
    "SEED 고정을 통해 초기값을 동일하게 만들어 항상 같은 결과를 재현할 수 있도록 한다."
   ]
  },
  {
   "cell_type": "code",
   "execution_count": 55,
   "metadata": {
    "id": "kZF-wmyT4IGP",
    "tags": []
   },
   "outputs": [],
   "source": [
    "SEED = 1234\n",
    "\n",
    "random.seed(SEED)\n",
    "np.random.seed(SEED)\n",
    "torch.manual_seed(SEED)\n",
    "torch.cuda.manual_seed(SEED)\n",
    "torch.backends.cudnn.deterministic = True"
   ]
  },
  {
   "cell_type": "markdown",
   "metadata": {
    "id": "EyalgKgk4IGP"
   },
   "source": [
    "Load the German and English spaCy models."
   ]
  },
  {
   "cell_type": "markdown",
   "metadata": {},
   "source": [
    "#### Tokenizer\n",
    "Tokenizer 모델을 다운로드하는 코드를 추가한다. 여기에서는 독일어와 영어 tokenizer를 사용한다\n",
    "\n",
    "* spaCy Tokenizer의 토큰화 과정\n",
    "\n",
    "![](https://github.com/mallang327/AIE6211_NLP/blob/main/resources/tokenizer_image.png?raw=1)"
   ]
  },
  {
   "cell_type": "code",
   "execution_count": 56,
   "metadata": {
    "tags": []
   },
   "outputs": [],
   "source": [
    "#import locale\n",
    "#locale.getpreferredencoding = lambda: \"UTF-8\"\n",
    "#!python -m spacy download en_core_web_sm\n",
    "#!python -m spacy download de_core_news_sm"
   ]
  },
  {
   "cell_type": "code",
   "execution_count": 57,
   "metadata": {
    "id": "2Hxn7y0V4IGP",
    "tags": []
   },
   "outputs": [],
   "source": [
    "spacy_de = spacy.load('de_core_news_sm')\n",
    "spacy_en = spacy.load('en_core_web_sm')"
   ]
  },
  {
   "cell_type": "markdown",
   "metadata": {
    "id": "CId8hiIl4IGQ"
   },
   "source": [
    "We create the tokenizers."
   ]
  },
  {
   "cell_type": "markdown",
   "metadata": {},
   "source": [
    "spacy_de, spacy_en으로 tokenize된 token의 리스트를 반환하는 메소드"
   ]
  },
  {
   "cell_type": "code",
   "execution_count": 58,
   "metadata": {
    "id": "99C4OpxH4IGQ",
    "tags": []
   },
   "outputs": [],
   "source": [
    "def tokenize_de(text):\n",
    "    \"\"\"\n",
    "    Tokenizes German text from a string into a list of strings\n",
    "    \"\"\"\n",
    "    return [tok.text for tok in spacy_de.tokenizer(text)]\n",
    "\n",
    "def tokenize_en(text):\n",
    "    \"\"\"\n",
    "    Tokenizes English text from a string into a list of strings\n",
    "    \"\"\"\n",
    "    return [tok.text for tok in spacy_en.tokenizer(text)]"
   ]
  },
  {
   "cell_type": "markdown",
   "metadata": {
    "id": "7nCbCvA24IGQ"
   },
   "source": [
    "The fields remain the same as before."
   ]
  },
  {
   "cell_type": "markdown",
   "metadata": {},
   "source": [
    "torchtext의 Field 함수를 이용하여\n",
    "\n",
    "1) tokenize_de, tokenize_en 함수로 각각 토큰화 \n",
    "\n",
    "1) Token list (Sentence)의 시작을 $<sos>$, 끝을 $<eos>$로 통일\n",
    "\n",
    "1) 모든 token을 소문자화시킨다"
   ]
  },
  {
   "cell_type": "code",
   "execution_count": 59,
   "metadata": {
    "id": "XyScJgrR4IGR",
    "outputId": "dee885de-600e-4c13-a284-85df11804547",
    "tags": []
   },
   "outputs": [],
   "source": [
    "SRC = Field(tokenize = tokenize_de, \n",
    "            init_token = '<sos>', \n",
    "            eos_token = '<eos>', \n",
    "            lower = True)\n",
    "\n",
    "TRG = Field(tokenize = tokenize_en, \n",
    "            init_token = '<sos>', \n",
    "            eos_token = '<eos>', \n",
    "            lower = True)"
   ]
  },
  {
   "cell_type": "markdown",
   "metadata": {
    "id": "mnbzAh2P4IGR"
   },
   "source": [
    "Load the data."
   ]
  },
  {
   "cell_type": "markdown",
   "metadata": {},
   "source": [
    "#### Multi30K: Multilingual English-German Image Descriptions\n",
    "\n",
    "train: 29,000 sentences / val: 1,014 sentences / test: 1,000 sentences each\n",
    "\n",
    "![](https://github.com/mallang327/AIE6211_NLP/blob/main/resources/multi30k_des.JPG?raw=1)"
   ]
  },
  {
   "cell_type": "code",
   "execution_count": 60,
   "metadata": {
    "id": "68BjNggu4IGS",
    "outputId": "e4f3166b-28cd-483e-b9ce-cd3254067c1f",
    "tags": []
   },
   "outputs": [],
   "source": [
    "train_data, valid_data, test_data = Multi30k.splits(exts = ('.de', '.en'), \n",
    "                                                    fields = (SRC, TRG))"
   ]
  },
  {
   "cell_type": "markdown",
   "metadata": {
    "id": "zgdbHATZ4IGS"
   },
   "source": [
    "Build the vocabulary."
   ]
  },
  {
   "cell_type": "markdown",
   "metadata": {},
   "source": [
    "실제 데이터 개수를 len을 이용해 확인해보면 위와 같다는 것을 알 수 있다."
   ]
  },
  {
   "cell_type": "code",
   "execution_count": 61,
   "metadata": {
    "tags": []
   },
   "outputs": [
    {
     "data": {
      "text/plain": [
       "(29000, 1014, 1000)"
      ]
     },
     "execution_count": 61,
     "metadata": {},
     "output_type": "execute_result"
    }
   ],
   "source": [
    "len(train_data), len(valid_data), len(test_data)"
   ]
  },
  {
   "cell_type": "code",
   "execution_count": 62,
   "metadata": {
    "id": "RaSB7ZzM4IGS",
    "tags": []
   },
   "outputs": [],
   "source": [
    "SRC.build_vocab(train_data, min_freq = 2)\n",
    "TRG.build_vocab(train_data, min_freq = 2)"
   ]
  },
  {
   "cell_type": "markdown",
   "metadata": {
    "id": "xkhfhpBg4IGS"
   },
   "source": [
    "Define the device."
   ]
  },
  {
   "cell_type": "markdown",
   "metadata": {},
   "source": [
    "특정 GPU를 사용하기 위해 device는 cuda:1로 임의로 바꿔주었다."
   ]
  },
  {
   "cell_type": "code",
   "execution_count": 63,
   "metadata": {
    "id": "MCAzuFQP4IGS",
    "tags": []
   },
   "outputs": [],
   "source": [
    "device = torch.device('cuda:1' if torch.cuda.is_available() else 'cpu')"
   ]
  },
  {
   "cell_type": "markdown",
   "metadata": {
    "id": "JY6ls3rc4IGT"
   },
   "source": [
    "Create the iterators."
   ]
  },
  {
   "attachments": {
    "f336e510-d3c8-401d-8b1c-2edbbee717f7.png": {
     "image/png": "[encoded data removed]"
    }
   },
   "cell_type": "markdown",
   "metadata": {},
   "source": [
    "torch의 DataLoader와 마찬가지로 torchtext에 있는 BucketIterator를 사용해 학습에 사용할 Iterator를 생성한다.\n",
    "\n",
    "Batch size는 128로 한번 iteration이 돌 때마다 128 묶음의 데이터를 병렬로 사용하게 된다.\n",
    "\n",
    "![image.png](attachment:f336e510-d3c8-401d-8b1c-2edbbee717f7.png)\n",
    "\n",
    "BucketIterator는 비슷한 길이의 단어를 하나의 batch 안에 묶어주는 역할을 한다.\n",
    "\n",
    "RNN의 경우 하나의 batch안에 들어가는 input sequence의 길이가 동일해야하기 때문에 padding을 이용한 collate 과정 거치게 된다.\n",
    "\n",
    "이 때 단어의 길이가 비슷할 수록 padding하는 size를 최소화할 수 있다."
   ]
  },
  {
   "cell_type": "code",
   "execution_count": 64,
   "metadata": {
    "id": "Rvy67uc04IGT",
    "outputId": "5ede3418-f35f-4644-c5eb-9ed522f89c83",
    "tags": []
   },
   "outputs": [],
   "source": [
    "BATCH_SIZE = 128\n",
    "\n",
    "train_iterator, valid_iterator, test_iterator = BucketIterator.splits(\n",
    "    (train_data, valid_data, test_data), \n",
    "    batch_size = BATCH_SIZE,\n",
    "    device = device)"
   ]
  },
  {
   "cell_type": "markdown",
   "metadata": {
    "id": "KYzT61rQ4IGT"
   },
   "source": [
    "## Building the Seq2Seq Model\n",
    "\n",
    "### Encoder\n",
    "\n",
    "문장에서 token끼리의 앞 뒤 문맥을 파악할 수 있도록 단방향 RNN이 아닌 양방향 RNN을 사용한다.\n",
    "\n",
    "RNN 구조는 GRU block을 사용하여 단순 RNN block에 비해 앞선 단어 정보를 더 기억할 수 있도록 한다.\n",
    "\n",
    "![](https://github.com/bentrevett/pytorch-seq2seq/blob/master/assets/seq2seq8.png?raw=1)\n",
    "\n",
    "\n",
    "$$\\begin{align*}\n",
    "h_t^\\rightarrow &= \\text{EncoderGRU}^\\rightarrow(e(x_t^\\rightarrow),h_{t-1}^\\rightarrow)\\\\\n",
    "h_t^\\leftarrow &= \\text{EncoderGRU}^\\leftarrow(e(x_t^\\leftarrow),h_{t-1}^\\leftarrow)\n",
    "\\end{align*}$$\n",
    "\n",
    "Where $x_0^\\rightarrow = \\text{<sos>}, x_1^\\rightarrow = \\text{guten}$ and $x_0^\\leftarrow = \\text{<eos>}, x_1^\\leftarrow = \\text{morgen}$."
   ]
  },
  {
   "cell_type": "markdown",
   "metadata": {},
   "source": [
    "### nn.Embedding\n",
    "num_embeddings과 embedding_dim을 인자로 받는다.\n",
    "\n",
    "num_embeddings : embedding할 단어들의 개수, input 단어 집합의 크기\n",
    "\n",
    "현재 **input_dim** 변수에 저장 --> len(SRC.vocab): $7853$\n",
    "\n",
    "embedding_dim : embedding할 벡터의 차원\n",
    "\n",
    "현재 **emb_dim** 변수에 저장 --> 256"
   ]
  },
  {
   "cell_type": "code",
   "execution_count": 130,
   "metadata": {
    "id": "geHb49Cu4IGU",
    "tags": []
   },
   "outputs": [],
   "source": [
    "class Encoder(nn.Module):\n",
    "    def __init__(self, input_dim, emb_dim, enc_hid_dim, dec_hid_dim, dropout):\n",
    "        super().__init__()\n",
    "        \n",
    "        self.embedding = nn.Embedding(input_dim, emb_dim)\n",
    "        \n",
    "        self.rnn = nn.GRU(emb_dim, enc_hid_dim, bidirectional = True)\n",
    "        \n",
    "        self.fc = nn.Linear(enc_hid_dim * 2, dec_hid_dim)\n",
    "        \n",
    "        self.dropout = nn.Dropout(dropout)\n",
    "        \n",
    "    def forward(self, src):\n",
    "\n",
    "        ##print(f\"src shape: {src.shape}\\n{src}\")\n",
    "        embedded = self.dropout(self.embedding(src))\n",
    "        ##print(f\"\\nembedded shape: {embedded.shape}\\n{embedded}\")\n",
    "        \n",
    "        outputs, hidden = self.rnn(embedded)\n",
    "        ##print(f\"\\nGRU output shape: {outputs.shape}\\n{outputs}\")\n",
    "        ##print(f\"\\nGRU hidden shape: {hidden.shape}\\n{hidden}\")\n",
    "\n",
    "        hidden = torch.tanh(self.fc(torch.cat((hidden[-2,:,:], hidden[-1,:,:]), dim = 1)))\n",
    "        ##print(f\"\\nBidirectional --> single hidden shape: {hidden.shape}\\n{hidden}\")\n",
    "        \n",
    "        return outputs, hidden"
   ]
  },
  {
   "cell_type": "markdown",
   "metadata": {},
   "source": [
    "### Encoder Block Parameter Analysis"
   ]
  },
  {
   "cell_type": "code",
   "execution_count": 131,
   "metadata": {
    "tags": []
   },
   "outputs": [
    {
     "data": {
      "text/plain": [
       "(7853, 5893)"
      ]
     },
     "execution_count": 131,
     "metadata": {},
     "output_type": "execute_result"
    }
   ],
   "source": [
    "# SRC: 독일어 / TRG: 영어\n",
    "len(SRC.vocab), len(TRG.vocab)"
   ]
  },
  {
   "cell_type": "code",
   "execution_count": 132,
   "metadata": {
    "tags": []
   },
   "outputs": [],
   "source": [
    "INPUT_DIM = len(SRC.vocab)\n",
    "ENC_EMB_DIM = 256\n",
    "ENC_HID_DIM = 512\n",
    "DEC_HID_DIM = 512\n",
    "ENC_DROPOUT = 0.5\n",
    "enc = Encoder(INPUT_DIM, ENC_EMB_DIM, ENC_HID_DIM, DEC_HID_DIM, ENC_DROPOUT).to(device)"
   ]
  },
  {
   "cell_type": "code",
   "execution_count": 113,
   "metadata": {
    "tags": []
   },
   "outputs": [
    {
     "name": "stdout",
     "output_type": "stream",
     "text": [
      "src shape: torch.Size([30, 128])\n",
      "tensor([[  2,   2,   2,  ...,   2,   2,   2],\n",
      "        [  8,  43,  54,  ...,  18,   5,   5],\n",
      "        [ 16,  41, 548,  ...,  30,  13,  13],\n",
      "        ...,\n",
      "        [  1,   1,   1,  ...,   1,   1,   1],\n",
      "        [  1,   1,   1,  ...,   1,   1,   1],\n",
      "        [  1,   1,   1,  ...,   1,   1,   1]], device='cuda:1')\n",
      "\n",
      "embedded shape: torch.Size([30, 128, 256])\n",
      "tensor([[[ 0.0000,  0.0000,  0.0000,  ..., -2.7541, -2.4462,  1.0542],\n",
      "         [ 0.4369, -0.2305,  0.0000,  ...,  0.0000,  0.0000,  1.0542],\n",
      "         [ 0.0000,  0.0000,  0.0000,  ..., -2.7541, -2.4462,  1.0542],\n",
      "         ...,\n",
      "         [ 0.4369,  0.0000,  0.5429,  ..., -2.7541, -2.4462,  1.0542],\n",
      "         [ 0.4369, -0.2305,  0.0000,  ...,  0.0000,  0.0000,  1.0542],\n",
      "         [ 0.0000,  0.0000,  0.0000,  ...,  0.0000, -2.4462,  0.0000]],\n",
      "\n",
      "        [[ 0.0000,  0.0000, -1.2003,  ...,  0.0000, -4.1245,  2.2230],\n",
      "         [ 0.0000,  0.0000, -2.0029,  ...,  0.0000,  0.0000, -1.4674],\n",
      "         [-3.2512,  5.3258, -2.7277,  ..., -0.6935, -0.8456,  0.0000],\n",
      "         ...,\n",
      "         [ 0.0000,  2.1144,  0.8861,  ..., -4.8818, -0.3332,  3.2981],\n",
      "         [-0.1914,  0.7670, -4.0115,  ..., -0.7151,  0.0000,  0.0000],\n",
      "         [-0.1914,  0.7670, -4.0115,  ...,  0.0000,  0.0000, -0.0104]],\n",
      "\n",
      "        [[ 0.3968,  0.0000,  0.0000,  ..., -2.4114, -2.0323,  0.0000],\n",
      "         [ 0.0000,  0.0000, -1.4622,  ..., -0.7222,  1.5322,  0.0000],\n",
      "         [ 2.3138,  0.0000, -2.4677,  ...,  0.0000,  1.4045, -1.0270],\n",
      "         ...,\n",
      "         [-0.4637,  2.4110, -0.6027,  ...,  3.1708,  2.2883,  0.0000],\n",
      "         [ 3.7957, -3.7781,  0.0000,  ...,  3.5431,  5.2138,  0.0000],\n",
      "         [ 3.7957,  0.0000,  0.0000,  ...,  0.0000,  5.2138,  4.6038]],\n",
      "\n",
      "        ...,\n",
      "\n",
      "        [[ 0.0000,  3.1752,  0.0000,  ...,  0.0000,  2.0206,  3.3800],\n",
      "         [-0.8561,  0.0000,  3.1188,  ...,  0.0000,  2.0206,  3.3800],\n",
      "         [-0.8561,  0.0000,  0.0000,  ...,  0.0000,  2.0206,  0.0000],\n",
      "         ...,\n",
      "         [-0.8561,  3.1752,  3.1188,  ...,  0.0000,  0.0000,  3.3800],\n",
      "         [ 0.0000,  3.1752,  0.0000,  ...,  0.0000,  2.0206,  3.3800],\n",
      "         [-0.8561,  3.1752,  0.0000,  ...,  1.4478,  2.0206,  3.3800]],\n",
      "\n",
      "        [[-0.8561,  3.1752,  3.1188,  ...,  0.0000,  2.0206,  0.0000],\n",
      "         [ 0.0000,  0.0000,  3.1188,  ...,  0.0000,  2.0206,  3.3800],\n",
      "         [-0.8561,  3.1752,  0.0000,  ...,  1.4478,  0.0000,  3.3800],\n",
      "         ...,\n",
      "         [ 0.0000,  0.0000,  3.1188,  ...,  0.0000,  0.0000,  0.0000],\n",
      "         [ 0.0000,  3.1752,  3.1188,  ...,  0.0000,  2.0206,  3.3800],\n",
      "         [-0.8561,  3.1752,  0.0000,  ...,  1.4478,  2.0206,  3.3800]],\n",
      "\n",
      "        [[ 0.0000,  3.1752,  3.1188,  ...,  0.0000,  2.0206,  0.0000],\n",
      "         [ 0.0000,  0.0000,  0.0000,  ...,  1.4478,  0.0000,  0.0000],\n",
      "         [ 0.0000,  3.1752,  3.1188,  ...,  0.0000,  0.0000,  0.0000],\n",
      "         ...,\n",
      "         [ 0.0000,  3.1752,  3.1188,  ...,  1.4478,  0.0000,  3.3800],\n",
      "         [ 0.0000,  0.0000,  0.0000,  ...,  1.4478,  0.0000,  3.3800],\n",
      "         [ 0.0000,  3.1752,  0.0000,  ...,  1.4478,  2.0206,  3.3800]]],\n",
      "       device='cuda:1', grad_fn=<FusedDropoutBackward0>)\n",
      "\n",
      "GRU output shape: torch.Size([30, 128, 1024])\n",
      "tensor([[[-0.0513, -0.1589, -0.1066,  ..., -0.4060, -0.5097,  0.1994],\n",
      "         [-0.3655,  0.0559, -0.1435,  ..., -0.3448, -0.0170, -0.4884],\n",
      "         [-0.1483,  0.3243,  0.3114,  ..., -0.1559, -0.3629,  0.2874],\n",
      "         ...,\n",
      "         [ 0.0582,  0.3735,  0.3309,  ..., -0.1554,  0.3850, -0.1323],\n",
      "         [-0.0979,  0.3240,  0.1345,  ..., -0.4407, -0.2105, -0.2064],\n",
      "         [ 0.2078,  0.0036,  0.1303,  ..., -0.1500, -0.1954, -0.3781]],\n",
      "\n",
      "        [[ 0.0216, -0.0079, -0.1032,  ..., -0.2065, -0.3054,  0.3121],\n",
      "         [ 0.3047,  0.0804,  0.4297,  ...,  0.0714,  0.2207, -0.4752],\n",
      "         [-0.1441, -0.2103,  0.0157,  ...,  0.0832, -0.3285,  0.1328],\n",
      "         ...,\n",
      "         [-0.3076,  0.3422, -0.1026,  ...,  0.4780,  0.3163,  0.3025],\n",
      "         [-0.4941,  0.1969,  0.2102,  ...,  0.0214,  0.0070, -0.2559],\n",
      "         [-0.2676,  0.1153, -0.1007,  ...,  0.1201,  0.2570, -0.0903]],\n",
      "\n",
      "        [[-0.0924, -0.0550,  0.1807,  ..., -0.1460, -0.1644,  0.0399],\n",
      "         [ 0.2905,  0.5493,  0.5563,  ...,  0.0304, -0.3886, -0.5397],\n",
      "         [ 0.1387,  0.2088, -0.1009,  ..., -0.3035, -0.3112, -0.0198],\n",
      "         ...,\n",
      "         [ 0.0012,  0.2101,  0.1451,  ...,  0.4194,  0.3097,  0.3104],\n",
      "         [-0.2845, -0.1581,  0.5070,  ..., -0.0189,  0.0474,  0.2452],\n",
      "         [-0.1805,  0.0362,  0.4000,  ..., -0.2403,  0.0088, -0.0110]],\n",
      "\n",
      "        ...,\n",
      "\n",
      "        [[-0.1471,  0.3337,  0.2664,  ..., -0.1566, -0.2523,  0.2090],\n",
      "         [-0.2763,  0.0510,  0.2329,  ..., -0.0102, -0.1584,  0.0560],\n",
      "         [ 0.1559,  0.5139,  0.4870,  ..., -0.0358, -0.5485,  0.2309],\n",
      "         ...,\n",
      "         [-0.2507,  0.2939,  0.0981,  ..., -0.1140, -0.0826,  0.0696],\n",
      "         [-0.3553,  0.4712,  0.2215,  ..., -0.0463, -0.6749, -0.1917],\n",
      "         [-0.2552,  0.4084, -0.0289,  ..., -0.0862, -0.2257,  0.1584]],\n",
      "\n",
      "        [[-0.1444,  0.2186, -0.1178,  ..., -0.0235, -0.4870,  0.0667],\n",
      "         [-0.2808,  0.0621,  0.2175,  ...,  0.0753, -0.2151,  0.1087],\n",
      "         [ 0.0633,  0.4801,  0.2106,  ...,  0.0899, -0.5135,  0.3767],\n",
      "         ...,\n",
      "         [-0.3900,  0.4580, -0.0473,  ..., -0.0762, -0.0334,  0.0586],\n",
      "         [-0.3934,  0.3873,  0.2497,  ...,  0.0633, -0.3544, -0.0157],\n",
      "         [-0.5147,  0.4371,  0.1115,  ..., -0.0603, -0.3821, -0.0142]],\n",
      "\n",
      "        [[-0.2012,  0.4022,  0.1057,  ..., -0.0238, -0.3173, -0.0338],\n",
      "         [-0.3238,  0.4106,  0.2915,  ...,  0.0748, -0.0562,  0.1862],\n",
      "         [-0.3090,  0.2174,  0.0432,  ...,  0.0059, -0.2595,  0.2827],\n",
      "         ...,\n",
      "         [-0.3391,  0.3988, -0.2427,  ..., -0.0126,  0.0565,  0.1606],\n",
      "         [-0.4253,  0.4544,  0.2096,  ...,  0.0452, -0.3408,  0.0213],\n",
      "         [-0.1829,  0.2615, -0.2318,  ...,  0.0383, -0.4191,  0.0091]]],\n",
      "       device='cuda:1', grad_fn=<CudnnRnnBackward0>)\n",
      "\n",
      "GRU hidden shape: torch.Size([2, 128, 512])\n",
      "tensor([[[-0.2012,  0.4022,  0.1057,  ...,  0.0870,  0.1087,  0.7095],\n",
      "         [-0.3238,  0.4106,  0.2915,  ...,  0.2659, -0.3841,  0.6420],\n",
      "         [-0.3090,  0.2174,  0.0432,  ...,  0.1365,  0.2816,  0.6319],\n",
      "         ...,\n",
      "         [-0.3391,  0.3988, -0.2427,  ..., -0.2281,  0.1790,  0.4705],\n",
      "         [-0.4253,  0.4544,  0.2096,  ..., -0.1965, -0.2764,  0.6369],\n",
      "         [-0.1829,  0.2615, -0.2318,  ..., -0.1321,  0.1089,  0.4057]],\n",
      "\n",
      "        [[ 0.1900, -0.3869, -0.1621,  ..., -0.4060, -0.5097,  0.1994],\n",
      "         [-0.0934, -0.3367, -0.3595,  ..., -0.3448, -0.0170, -0.4884],\n",
      "         [-0.1822, -0.4580, -0.1493,  ..., -0.1559, -0.3629,  0.2874],\n",
      "         ...,\n",
      "         [-0.0037, -0.2837, -0.4065,  ..., -0.1554,  0.3850, -0.1323],\n",
      "         [-0.0572, -0.1814,  0.4464,  ..., -0.4407, -0.2105, -0.2064],\n",
      "         [ 0.5534, -0.1708, -0.0670,  ..., -0.1500, -0.1954, -0.3781]]],\n",
      "       device='cuda:1', grad_fn=<CudnnRnnBackward0>)\n",
      "\n",
      "Bidirectional --> single hidden shape: torch.Size([128, 512])\n",
      "tensor([[ 0.0221,  0.2562, -0.3019,  ..., -0.0565, -0.1529, -0.0522],\n",
      "        [ 0.1850,  0.1882, -0.2169,  ...,  0.1987, -0.0149, -0.2195],\n",
      "        [ 0.1331,  0.0514, -0.3066,  ...,  0.1306, -0.1184, -0.1131],\n",
      "        ...,\n",
      "        [-0.0722,  0.0539, -0.1501,  ..., -0.0993,  0.1378,  0.0709],\n",
      "        [ 0.0392, -0.0865, -0.2012,  ...,  0.1651,  0.0112, -0.1081],\n",
      "        [ 0.3131,  0.0016, -0.1748,  ...,  0.0411, -0.1225, -0.0422]],\n",
      "       device='cuda:1', grad_fn=<TanhBackward0>)\n"
     ]
    }
   ],
   "source": [
    "for i, batch in enumerate(train_iterator):\n",
    "    src = batch.src #src = [src len, batch size] ex) [28, 128]\n",
    "    encoder_outputs, hidden = enc(src)\n",
    "    # for testing only single case\n",
    "    if i == 0:\n",
    "        break"
   ]
  },
  {
   "cell_type": "markdown",
   "metadata": {},
   "source": [
    "#### Parameter shape info\n",
    "\n",
    "src = [src len, batch size]\n",
    "\n",
    "Embedded = [src len, batch size, emb dim]\n",
    "\n",
    "GRU output = [src len, batch size, ENC_HID_DIM * num directions]\n",
    "\n",
    "GRU hidden = [n layers * num directions, batch size, ENC_HID_DIM]\n",
    "\n",
    "Bidirectional GRU의 hidden은 [forward_1, backward_1, forward_2, backward_2, ...]로 forward와 backward가 순차적으로 리스트에 저장된다.\n",
    "\n",
    "$torch.tanh(self.fc(torch.cat((hidden[-2,:,:], hidden[-1,:,:]), dim = 1)))$를 통해 forward path의 마지막 RNN output과 backward path의 마지막 RNN output을 concatenate한 후 512차원으로 FC layer 학습\n",
    "\n",
    "마지막 hidden output = fc & tanh output --> [batch size, DEC_HID_DIM]"
   ]
  },
  {
   "cell_type": "markdown",
   "metadata": {
    "id": "BOEvelVF4IGV",
    "tags": []
   },
   "source": [
    "### Attention\n",
    "\n",
    "$$E_t = \\tanh(\\text{attn}(s_{t-1}, H))$$ \n",
    "\n",
    "$$\\hat{a}_t = v E_t$$\n",
    "\n",
    "$$a_t = \\text{softmax}(\\hat{a_t})$$\n",
    "\n",
    "$energy = torch.tanh(self.attn(torch.cat((hidden, encoder\\_outputs), dim = 2)))$\n",
    "\n",
    "![](https://github.com/bentrevett/pytorch-seq2seq/blob/master/assets/seq2seq9.png?raw=1)"
   ]
  },
  {
   "cell_type": "code",
   "execution_count": 133,
   "metadata": {
    "id": "evyfZEeB4IGW",
    "tags": []
   },
   "outputs": [],
   "source": [
    "class Attention(nn.Module):\n",
    "    def __init__(self, enc_hid_dim, dec_hid_dim):\n",
    "        super().__init__()\n",
    "        \n",
    "        self.attn = nn.Linear((enc_hid_dim * 2) + dec_hid_dim, dec_hid_dim)\n",
    "        self.v = nn.Linear(dec_hid_dim, 1, bias = False)\n",
    "        \n",
    "    def forward(self, hidden, encoder_outputs):\n",
    "        \n",
    "        #hidden = [batch size, dec hid dim]\n",
    "        #encoder_outputs = [src len, batch size, enc hid dim * 2]\n",
    "        \n",
    "        batch_size = encoder_outputs.shape[1]\n",
    "        src_len = encoder_outputs.shape[0]\n",
    "        \n",
    "        #repeat decoder hidden state src_len times\n",
    "        hidden = hidden.unsqueeze(1).repeat(1, src_len, 1)\n",
    "        \n",
    "        encoder_outputs = encoder_outputs.permute(1, 0, 2)\n",
    "        \n",
    "        #hidden = [batch size, src len, dec hid dim]\n",
    "        #encoder_outputs = [batch size, src len, enc hid dim * 2]\n",
    "        \n",
    "        energy = torch.tanh(self.attn(torch.cat((hidden, encoder_outputs), dim = 2))) \n",
    "        \n",
    "        #energy = [batch size, src len, dec hid dim]\n",
    "\n",
    "        attention = self.v(energy).squeeze(2)\n",
    "        \n",
    "        #attention= [batch size, src len]\n",
    "        \n",
    "        return F.softmax(attention, dim=1)"
   ]
  },
  {
   "cell_type": "markdown",
   "metadata": {
    "id": "Npv7rFI04IGW"
   },
   "source": [
    "### Decoder\n",
    "\n",
    "Next up is the decoder. \n",
    "\n",
    "The decoder contains the attention layer, `attention`, which takes the previous hidden state, $s_{t-1}$, all of the encoder hidden states, $H$, and returns the attention vector, $a_t$.\n",
    "\n",
    "We then use this attention vector to create a weighted source vector, $w_t$, denoted by `weighted`, which is a weighted sum of the encoder hidden states, $H$, using $a_t$ as the weights.\n",
    "\n",
    "$$w_t = a_t H$$\n",
    "\n",
    "The embedded input word, $d(y_t)$, the weighted source vector, $w_t$, and the previous decoder hidden state, $s_{t-1}$, are then all passed into the decoder RNN, with $d(y_t)$ and $w_t$ being concatenated together.\n",
    "\n",
    "$$s_t = \\text{DecoderGRU}(d(y_t), w_t, s_{t-1})$$\n",
    "\n",
    "We then pass $d(y_t)$, $w_t$ and $s_t$ through the linear layer, $f$, to make a prediction of the next word in the target sentence, $\\hat{y}_{t+1}$. This is done by concatenating them all together.\n",
    "\n",
    "$$\\hat{y}_{t+1} = f(d(y_t), w_t, s_t)$$\n",
    "\n",
    "The image below shows decoding the first word in an example translation.\n",
    "\n",
    "![](https://github.com/bentrevett/pytorch-seq2seq/blob/master/assets/seq2seq10.png?raw=1)\n",
    "\n",
    "The green/teal blocks show the forward/backward encoder RNNs which output $H$, the red block shows the context vector, $z = h_T = \\tanh(g(h^\\rightarrow_T,h^\\leftarrow_T)) = \\tanh(g(z^\\rightarrow, z^\\leftarrow)) = s_0$, the blue block shows the decoder RNN which outputs $s_t$, the purple block shows the linear layer, $f$, which outputs $\\hat{y}_{t+1}$ and the orange block shows the calculation of the weighted sum over $H$ by $a_t$ and outputs $w_t$. Not shown is the calculation of $a_t$."
   ]
  },
  {
   "cell_type": "code",
   "execution_count": 134,
   "metadata": {
    "id": "58t-bgci4IGX",
    "tags": []
   },
   "outputs": [],
   "source": [
    "class Decoder(nn.Module):\n",
    "    def __init__(self, output_dim, emb_dim, enc_hid_dim, dec_hid_dim, dropout, attention):\n",
    "        super().__init__()\n",
    "\n",
    "        self.output_dim = output_dim\n",
    "        self.attention = attention\n",
    "        \n",
    "        self.embedding = nn.Embedding(output_dim, emb_dim)\n",
    "        \n",
    "        self.rnn = nn.GRU((enc_hid_dim * 2) + emb_dim, dec_hid_dim) # Encoder의 GRU: self.rnn = nn.GRU(emb_dim, enc_hid_dim, bidirectional = True)\n",
    "        \n",
    "        self.fc_out = nn.Linear((enc_hid_dim * 2) + dec_hid_dim + emb_dim, output_dim)\n",
    "        \n",
    "        self.dropout = nn.Dropout(dropout)\n",
    "        \n",
    "    def forward(self, input, hidden, encoder_outputs):\n",
    "        input = input.unsqueeze(0)\n",
    "        #print(f\"unsqueezed input shape: {input.shape}\\n{input}\")\n",
    "        embedded = self.dropout(self.embedding(input))\n",
    "        #print(f\"embedded shape: {embedded.shape}\\n{embedded}\") #embedded = [1, batch size, DEC_EMB_DIM]        \n",
    "        a = self.attention(hidden, encoder_outputs) #a = [batch size, src len]\n",
    "        a = a.unsqueeze(1) #a = [batch size, 1, src len]\n",
    "        \n",
    "        encoder_outputs = encoder_outputs.permute(1, 0, 2) #encoder_outputs = [batch size, src len, enc hid dim * 2]\n",
    "        \n",
    "        weighted = torch.bmm(a, encoder_outputs) #weighted = [batch size, 1, enc hid dim * 2]\n",
    "        \n",
    "        weighted = weighted.permute(1, 0, 2) #weighted = [1, batch size, enc hid dim * 2]\n",
    "        \n",
    "        rnn_input = torch.cat((embedded, weighted), dim = 2) #rnn_input = [1, batch size, (enc hid dim * 2) + emb dim]\n",
    "            \n",
    "        output, hidden = self.rnn(rnn_input, hidden.unsqueeze(0))        \n",
    "        #output = [seq len, batch size, dec hid dim * n directions]\n",
    "        #hidden = [n layers * n directions, batch size, dec hid dim]\n",
    "        \n",
    "        #seq len, n layers and n directions will always be 1 in this decoder, therefore:\n",
    "        #output = [1, batch size, dec hid dim]\n",
    "        #hidden = [1, batch size, dec hid dim]\n",
    "        #this also means that output == hidden\n",
    "        assert (output == hidden).all()\n",
    "        \n",
    "        embedded = embedded.squeeze(0)\n",
    "        output = output.squeeze(0)\n",
    "        weighted = weighted.squeeze(0)\n",
    "        \n",
    "        prediction = self.fc_out(torch.cat((output, weighted, embedded), dim = 1))\n",
    "        \n",
    "        #prediction = [batch size, output dim]\n",
    "        \n",
    "        return prediction, hidden.squeeze(0)"
   ]
  },
  {
   "cell_type": "markdown",
   "metadata": {},
   "source": [
    "### Decoder Block Parameter Analysis"
   ]
  },
  {
   "cell_type": "code",
   "execution_count": 135,
   "metadata": {
    "tags": []
   },
   "outputs": [],
   "source": [
    "INPUT_DIM = len(SRC.vocab)\n",
    "OUTPUT_DIM = len(TRG.vocab)\n",
    "\n",
    "DEC_EMB_DIM = 256\n",
    "ENC_HID_DIM = 512\n",
    "DEC_HID_DIM = 512\n",
    "ENC_DROPOUT = 0.5\n",
    "DEC_DROPOUT = 0.5\n",
    "\n",
    "attn = Attention(ENC_HID_DIM, DEC_HID_DIM).to(device)\n",
    "dec = Decoder(OUTPUT_DIM, DEC_EMB_DIM, ENC_HID_DIM, DEC_HID_DIM, DEC_DROPOUT, attn).to(device)\n",
    "\n",
    "for i, batch in enumerate(train_iterator):\n",
    "    src = batch.src #src = [src len, batch size] ex) [28, 128]\n",
    "    trg = batch.trg #trg = [trg len, batch size] ex) [30, 128]\n",
    "    encoder_outputs, hidden = enc(src) \n",
    "    # encoder_outputs = [src len, batch size, ENC_HID_DIM * num directions] ex) [28, 128, 1024]\n",
    "    # hidden = [batch size, DEC_HID_DIM] ex) [128, 512]\n",
    "    \n",
    "    input = trg[0,:] # 시작 단어 <sos> token의 embedding\n",
    "    trg_len = trg.shape[0]\n",
    "    for t in range(1, trg_len):\n",
    "        output, hidden = dec(input, hidden, encoder_outputs)\n",
    "        \n",
    "    # for testing only single case\n",
    "    if i == 0:\n",
    "        break"
   ]
  },
  {
   "cell_type": "markdown",
   "metadata": {},
   "source": [
    "Output이 최종 토큰의 확률"
   ]
  },
  {
   "cell_type": "code",
   "execution_count": 128,
   "metadata": {
    "tags": []
   },
   "outputs": [
    {
     "data": {
      "text/plain": [
       "(torch.Size([128, 5893]),\n",
       " tensor([[-0.0287, -0.4831,  0.0305,  ...,  0.4108,  0.2089, -0.1726],\n",
       "         [ 0.2814,  0.0523, -0.0680,  ..., -0.2732,  0.1958, -0.0284],\n",
       "         [ 0.0261, -0.1284,  0.3701,  ..., -0.0697,  0.0504,  0.2124],\n",
       "         ...,\n",
       "         [ 0.2879,  0.0019,  0.0092,  ..., -0.0212,  0.1291,  0.1890],\n",
       "         [-0.1548,  0.0165,  0.0372,  ...,  0.4491, -0.0099,  0.1772],\n",
       "         [ 0.2439,  0.0461, -0.1519,  ..., -0.3080,  0.4046,  0.0213]],\n",
       "        device='cuda:1', grad_fn=<AddmmBackward0>))"
      ]
     },
     "execution_count": 128,
     "metadata": {},
     "output_type": "execute_result"
    }
   ],
   "source": [
    "output.shape, output"
   ]
  },
  {
   "cell_type": "code",
   "execution_count": 126,
   "metadata": {
    "tags": []
   },
   "outputs": [
    {
     "data": {
      "text/plain": [
       "(torch.Size([128, 512]),\n",
       " tensor([[-0.7538,  0.0189,  0.2725,  ...,  0.3231,  0.3392, -0.1014],\n",
       "         [-0.7906,  0.3478,  0.5368,  ..., -0.1710,  0.5614,  0.3092],\n",
       "         [-0.6204, -0.1625,  0.1681,  ..., -0.4039,  0.3754,  0.2851],\n",
       "         ...,\n",
       "         [-0.7595,  0.0891,  0.5427,  ..., -0.2164,  0.2249,  0.3600],\n",
       "         [-0.7105, -0.1476,  0.0401,  ..., -0.0728,  0.3609, -0.2611],\n",
       "         [-0.6738, -0.1942,  0.3818,  ...,  0.1910,  0.5897, -0.0253]],\n",
       "        device='cuda:1', grad_fn=<SqueezeBackward1>))"
      ]
     },
     "execution_count": 126,
     "metadata": {},
     "output_type": "execute_result"
    }
   ],
   "source": [
    "hidden.shape, hidden"
   ]
  },
  {
   "cell_type": "markdown",
   "metadata": {
    "id": "fWH8VNzh4IGY"
   },
   "source": [
    "### Seq2Seq\n",
    "\n",
    "This is the first model where we don't have to have the encoder RNN and decoder RNN have the same hidden dimensions, however the encoder has to be bidirectional. This requirement can be removed by changing all occurences of `enc_dim * 2` to `enc_dim * 2 if encoder_is_bidirectional else enc_dim`. \n",
    "\n",
    "This seq2seq encapsulator is similar to the last two. The only difference is that the `encoder` returns both the final hidden state (which is the final hidden state from both the forward and backward encoder RNNs passed through a linear layer) to be used as the initial hidden state for the decoder, as well as every hidden state (which are the forward and backward hidden states stacked on top of each other). We also need to ensure that `hidden` and `encoder_outputs` are passed to the decoder. \n",
    "\n",
    "Briefly going over all of the steps:\n",
    "- the `outputs` tensor is created to hold all predictions, $\\hat{Y}$\n",
    "- the source sequence, $X$, is fed into the encoder to receive $z$ and $H$\n",
    "- the initial decoder hidden state is set to be the `context` vector, $s_0 = z = h_T$\n",
    "- we use a batch of `<sos>` tokens as the first `input`, $y_1$\n",
    "- we then decode within a loop:\n",
    "  - inserting the input token $y_t$, previous hidden state, $s_{t-1}$, and all encoder outputs, $H$, into the decoder\n",
    "  - receiving a prediction, $\\hat{y}_{t+1}$, and a new hidden state, $s_t$\n",
    "  - we then decide if we are going to teacher force or not, setting the next input as appropriate"
   ]
  },
  {
   "cell_type": "code",
   "execution_count": 165,
   "metadata": {
    "id": "goE_D0yR4IGY",
    "tags": []
   },
   "outputs": [],
   "source": [
    "class Seq2Seq(nn.Module):\n",
    "    def __init__(self, encoder, decoder, device):\n",
    "        super().__init__()\n",
    "        \n",
    "        self.encoder = encoder\n",
    "        self.decoder = decoder\n",
    "        self.device = device\n",
    "        \n",
    "    def forward(self, src, trg, teacher_forcing_ratio = 0.5):\n",
    "        if trg is None:\n",
    "            trg = torch.zeros((25, src.shape[1])).fill_(2).long().to(src.device)\n",
    "            assert teacher_forcing_ratio == 0, \"Must be zero during inference\"         \n",
    "        #src = [src len, batch size]\n",
    "        #trg = [trg len, batch size]\n",
    "        #teacher_forcing_ratio is probability to use teacher forcing\n",
    "        #e.g. if teacher_forcing_ratio is 0.75 we use teacher forcing 75% of the time\n",
    "        \n",
    "        batch_size = src.shape[1]\n",
    "        trg_len = trg.shape[0]\n",
    "        trg_vocab_size = self.decoder.output_dim\n",
    "        \n",
    "        #tensor to store decoder outputs\n",
    "        outputs = torch.zeros(trg_len, batch_size, trg_vocab_size).to(self.device)\n",
    "        \n",
    "        #encoder_outputs is all hidden states of the input sequence, back and forwards\n",
    "        #hidden is the final forward and backward hidden states, passed through a linear layer\n",
    "        encoder_outputs, hidden = self.encoder(src)\n",
    "                \n",
    "        #first input to the decoder is the <sos> tokens\n",
    "        input = trg[0,:]\n",
    "        \n",
    "        for t in range(1, trg_len):\n",
    "            \n",
    "            #insert input token embedding, previous hidden state and all encoder hidden states\n",
    "            #receive output tensor (predictions) and new hidden state\n",
    "            output, hidden = self.decoder(input, hidden, encoder_outputs)\n",
    "            \n",
    "            #place predictions in a tensor holding predictions for each token\n",
    "            outputs[t] = output\n",
    "            \n",
    "            #decide if we are going to use teacher forcing or not\n",
    "            teacher_force = random.random() < teacher_forcing_ratio\n",
    "            \n",
    "            #get the highest predicted token from our predictions\n",
    "            top1 = output.argmax(1) \n",
    "            \n",
    "            #if teacher forcing, use actual next token as next input\n",
    "            #if not, use predicted token\n",
    "            input = trg[t] if teacher_force else top1\n",
    "\n",
    "        return outputs"
   ]
  },
  {
   "cell_type": "markdown",
   "metadata": {
    "id": "6Z5NdEdG4IGZ"
   },
   "source": [
    "## Training the Seq2Seq Model\n",
    "\n",
    "The rest of this tutorial is very similar to the previous one.\n",
    "\n",
    "We initialise our parameters, encoder, decoder and seq2seq model (placing it on the GPU if we have one). "
   ]
  },
  {
   "cell_type": "code",
   "execution_count": 166,
   "metadata": {
    "id": "jAip_3Pb4IGZ",
    "tags": []
   },
   "outputs": [],
   "source": [
    "INPUT_DIM = len(SRC.vocab)\n",
    "OUTPUT_DIM = len(TRG.vocab)\n",
    "ENC_EMB_DIM = 256\n",
    "DEC_EMB_DIM = 256\n",
    "ENC_HID_DIM = 512\n",
    "DEC_HID_DIM = 512\n",
    "ENC_DROPOUT = 0.5\n",
    "DEC_DROPOUT = 0.5\n",
    "\n",
    "attn = Attention(ENC_HID_DIM, DEC_HID_DIM)\n",
    "enc = Encoder(INPUT_DIM, ENC_EMB_DIM, ENC_HID_DIM, DEC_HID_DIM, ENC_DROPOUT)\n",
    "dec = Decoder(OUTPUT_DIM, DEC_EMB_DIM, ENC_HID_DIM, DEC_HID_DIM, DEC_DROPOUT, attn)\n",
    "\n",
    "model = Seq2Seq(enc, dec, device).to(device)"
   ]
  },
  {
   "cell_type": "markdown",
   "metadata": {
    "id": "IGXg0Q9s4IGa"
   },
   "source": [
    "We use a simplified version of the weight initialization scheme used in the paper. Here, we will initialize all biases to zero and all weights from $\\mathcal{N}(0, 0.01)$."
   ]
  },
  {
   "cell_type": "code",
   "execution_count": 157,
   "metadata": {
    "id": "kKUj0ULW4IGa",
    "outputId": "e7747597-156b-47a7-93d4-1139239f49f0",
    "tags": []
   },
   "outputs": [
    {
     "data": {
      "text/plain": [
       "Seq2Seq(\n",
       "  (encoder): Encoder(\n",
       "    (embedding): Embedding(7853, 256)\n",
       "    (rnn): GRU(256, 512, bidirectional=True)\n",
       "    (fc): Linear(in_features=1024, out_features=512, bias=True)\n",
       "    (dropout): Dropout(p=0.5, inplace=False)\n",
       "  )\n",
       "  (decoder): Decoder(\n",
       "    (attention): Attention(\n",
       "      (attn): Linear(in_features=1536, out_features=512, bias=True)\n",
       "      (v): Linear(in_features=512, out_features=1, bias=False)\n",
       "    )\n",
       "    (embedding): Embedding(5893, 256)\n",
       "    (rnn): GRU(1280, 512)\n",
       "    (fc_out): Linear(in_features=1792, out_features=5893, bias=True)\n",
       "    (dropout): Dropout(p=0.5, inplace=False)\n",
       "  )\n",
       ")"
      ]
     },
     "execution_count": 157,
     "metadata": {},
     "output_type": "execute_result"
    }
   ],
   "source": [
    "def init_weights(m):\n",
    "    for name, param in m.named_parameters():\n",
    "        if 'weight' in name:\n",
    "            nn.init.normal_(param.data, mean=0, std=0.01)\n",
    "        else:\n",
    "            nn.init.constant_(param.data, 0)\n",
    "            \n",
    "model.apply(init_weights)"
   ]
  },
  {
   "cell_type": "markdown",
   "metadata": {
    "id": "rrUfnBTY4IGa"
   },
   "source": [
    "Calculate the number of parameters. We get an increase of almost 50% in the amount of parameters from the last model. "
   ]
  },
  {
   "cell_type": "code",
   "execution_count": 158,
   "metadata": {
    "id": "ICeXdskp4IGb",
    "outputId": "daaacdc8-ebaf-4406-d68a-1e4012ce3fd3",
    "tags": []
   },
   "outputs": [
    {
     "name": "stdout",
     "output_type": "stream",
     "text": [
      "The model has 20,518,405 trainable parameters\n"
     ]
    }
   ],
   "source": [
    "def count_parameters(model):\n",
    "    return sum(p.numel() for p in model.parameters() if p.requires_grad)\n",
    "\n",
    "print(f'The model has {count_parameters(model):,} trainable parameters')"
   ]
  },
  {
   "cell_type": "markdown",
   "metadata": {
    "id": "o1vmgPVo4IGb"
   },
   "source": [
    "We create an optimizer."
   ]
  },
  {
   "cell_type": "code",
   "execution_count": 159,
   "metadata": {
    "id": "i3CTIOIM4IGb",
    "tags": []
   },
   "outputs": [],
   "source": [
    "optimizer = optim.Adam(model.parameters())"
   ]
  },
  {
   "cell_type": "markdown",
   "metadata": {
    "id": "v-RaVf7E4IGb"
   },
   "source": [
    "We initialize the loss function."
   ]
  },
  {
   "cell_type": "code",
   "execution_count": 160,
   "metadata": {
    "id": "fFB_QmcQ4IGc",
    "tags": []
   },
   "outputs": [],
   "source": [
    "TRG_PAD_IDX = TRG.vocab.stoi[TRG.pad_token]\n",
    "\n",
    "criterion = nn.CrossEntropyLoss(ignore_index = TRG_PAD_IDX)"
   ]
  },
  {
   "cell_type": "markdown",
   "metadata": {
    "id": "_McV34JM4IGd"
   },
   "source": [
    "We then create the training loop..."
   ]
  },
  {
   "cell_type": "code",
   "execution_count": 161,
   "metadata": {
    "id": "n2O9lC_c4IGd",
    "tags": []
   },
   "outputs": [],
   "source": [
    "def train(model, iterator, optimizer, criterion, clip):\n",
    "    \n",
    "    model.train()\n",
    "    \n",
    "    epoch_loss = 0\n",
    "    \n",
    "    for i, batch in enumerate(iterator):\n",
    "        \n",
    "        src = batch.src\n",
    "        trg = batch.trg\n",
    "        \n",
    "        optimizer.zero_grad()\n",
    "        \n",
    "        output = model(src, trg)\n",
    "        \n",
    "        #trg = [trg len, batch size]\n",
    "        #output = [trg len, batch size, output dim]\n",
    "        \n",
    "        output_dim = output.shape[-1]\n",
    "        \n",
    "        output = output[1:].view(-1, output_dim)\n",
    "        trg = trg[1:].view(-1)\n",
    "        \n",
    "        #trg = [(trg len - 1) * batch size]\n",
    "        #output = [(trg len - 1) * batch size, output dim]\n",
    "        \n",
    "        loss = criterion(output, trg)\n",
    "        \n",
    "        loss.backward()\n",
    "        \n",
    "        torch.nn.utils.clip_grad_norm_(model.parameters(), clip)\n",
    "        \n",
    "        optimizer.step()\n",
    "        \n",
    "        epoch_loss += loss.item()\n",
    "        \n",
    "    return epoch_loss / len(iterator)"
   ]
  },
  {
   "cell_type": "markdown",
   "metadata": {
    "id": "FbNr8KkX4IGd"
   },
   "source": [
    "...and the evaluation loop, remembering to set the model to `eval` mode and turn off teaching forcing."
   ]
  },
  {
   "cell_type": "code",
   "execution_count": 162,
   "metadata": {
    "id": "icxJYLhF4IGd",
    "tags": []
   },
   "outputs": [],
   "source": [
    "def evaluate(model, iterator, criterion):\n",
    "    \n",
    "    model.eval()\n",
    "    \n",
    "    epoch_loss = 0\n",
    "    \n",
    "    with torch.no_grad():\n",
    "    \n",
    "        for i, batch in enumerate(iterator):\n",
    "\n",
    "            src = batch.src\n",
    "            trg = batch.trg\n",
    "\n",
    "            output = model(src, trg, 0) #turn off teacher forcing\n",
    "\n",
    "            #trg = [trg len, batch size]\n",
    "            #output = [trg len, batch size, output dim]\n",
    "\n",
    "            output_dim = output.shape[-1]\n",
    "            \n",
    "            output = output[1:].view(-1, output_dim)\n",
    "            trg = trg[1:].view(-1)\n",
    "\n",
    "            #trg = [(trg len - 1) * batch size]\n",
    "            #output = [(trg len - 1) * batch size, output dim]\n",
    "\n",
    "            loss = criterion(output, trg)\n",
    "\n",
    "            epoch_loss += loss.item()\n",
    "        \n",
    "    return epoch_loss / len(iterator)"
   ]
  },
  {
   "cell_type": "markdown",
   "metadata": {
    "id": "K81Cc9cq4IGe"
   },
   "source": [
    "Finally, define a timing function."
   ]
  },
  {
   "cell_type": "code",
   "execution_count": 163,
   "metadata": {
    "id": "4q6VDM6E4IGe",
    "tags": []
   },
   "outputs": [],
   "source": [
    "def epoch_time(start_time, end_time):\n",
    "    elapsed_time = end_time - start_time\n",
    "    elapsed_mins = int(elapsed_time / 60)\n",
    "    elapsed_secs = int(elapsed_time - (elapsed_mins * 60))\n",
    "    return elapsed_mins, elapsed_secs"
   ]
  },
  {
   "cell_type": "markdown",
   "metadata": {
    "id": "rmwtMuzA4IGe"
   },
   "source": [
    "Then, we train our model, saving the parameters that give us the best validation loss."
   ]
  },
  {
   "cell_type": "markdown",
   "metadata": {},
   "source": [
    "#### Validation loss가 가장 작아지는 순간의 weight를 \"tut3-model.pt\"에 저장"
   ]
  },
  {
   "cell_type": "code",
   "execution_count": 164,
   "metadata": {
    "tags": []
   },
   "outputs": [
    {
     "name": "stderr",
     "output_type": "stream",
     "text": [
      " 10%|███████▍                                                                  | 1/10 [00:38<05:43, 38.12s/it]"
     ]
    },
    {
     "name": "stdout",
     "output_type": "stream",
     "text": [
      "Epoch: 01 | Time: 0m 37s\n",
      "\tTrain Loss: 5.048 | Train PPL: 155.743\n",
      "\t Val. Loss: 5.076 |  Val. PPL: 160.087\n"
     ]
    },
    {
     "name": "stderr",
     "output_type": "stream",
     "text": [
      " 20%|██████████████▊                                                           | 2/10 [01:16<05:06, 38.27s/it]"
     ]
    },
    {
     "name": "stdout",
     "output_type": "stream",
     "text": [
      "Epoch: 02 | Time: 0m 37s\n",
      "\tTrain Loss: 4.161 | Train PPL:  64.125\n",
      "\t Val. Loss: 4.449 |  Val. PPL:  85.510\n"
     ]
    },
    {
     "name": "stderr",
     "output_type": "stream",
     "text": [
      " 30%|██████████████████████▏                                                   | 3/10 [01:55<04:29, 38.49s/it]"
     ]
    },
    {
     "name": "stdout",
     "output_type": "stream",
     "text": [
      "Epoch: 03 | Time: 0m 37s\n",
      "\tTrain Loss: 3.490 | Train PPL:  32.770\n",
      "\t Val. Loss: 3.808 |  Val. PPL:  45.066\n"
     ]
    },
    {
     "name": "stderr",
     "output_type": "stream",
     "text": [
      " 40%|█████████████████████████████▌                                            | 4/10 [02:34<03:52, 38.76s/it]"
     ]
    },
    {
     "name": "stdout",
     "output_type": "stream",
     "text": [
      "Epoch: 04 | Time: 0m 38s\n",
      "\tTrain Loss: 2.939 | Train PPL:  18.898\n",
      "\t Val. Loss: 3.440 |  Val. PPL:  31.172\n"
     ]
    },
    {
     "name": "stderr",
     "output_type": "stream",
     "text": [
      " 50%|█████████████████████████████████████                                     | 5/10 [03:13<03:14, 38.89s/it]"
     ]
    },
    {
     "name": "stdout",
     "output_type": "stream",
     "text": [
      "Epoch: 05 | Time: 0m 38s\n",
      "\tTrain Loss: 2.529 | Train PPL:  12.544\n",
      "\t Val. Loss: 3.285 |  Val. PPL:  26.708\n"
     ]
    },
    {
     "name": "stderr",
     "output_type": "stream",
     "text": [
      " 60%|████████████████████████████████████████████▍                             | 6/10 [03:53<02:36, 39.10s/it]"
     ]
    },
    {
     "name": "stdout",
     "output_type": "stream",
     "text": [
      "Epoch: 06 | Time: 0m 38s\n",
      "\tTrain Loss: 2.230 | Train PPL:   9.300\n",
      "\t Val. Loss: 3.205 |  Val. PPL:  24.655\n"
     ]
    },
    {
     "name": "stderr",
     "output_type": "stream",
     "text": [
      " 70%|███████████████████████████████████████████████████▊                      | 7/10 [04:32<01:57, 39.20s/it]"
     ]
    },
    {
     "name": "stdout",
     "output_type": "stream",
     "text": [
      "Epoch: 07 | Time: 0m 38s\n",
      "\tTrain Loss: 1.992 | Train PPL:   7.327\n",
      "\t Val. Loss: 3.197 |  Val. PPL:  24.461\n"
     ]
    },
    {
     "name": "stderr",
     "output_type": "stream",
     "text": [
      " 80%|███████████████████████████████████████████████████████████▏              | 8/10 [05:10<01:17, 38.88s/it]"
     ]
    },
    {
     "name": "stdout",
     "output_type": "stream",
     "text": [
      "Epoch: 08 | Time: 0m 38s\n",
      "\tTrain Loss: 1.797 | Train PPL:   6.034\n",
      "\t Val. Loss: 3.238 |  Val. PPL:  25.482\n"
     ]
    },
    {
     "name": "stderr",
     "output_type": "stream",
     "text": [
      " 90%|██████████████████████████████████████████████████████████████████▌       | 9/10 [05:48<00:38, 38.62s/it]"
     ]
    },
    {
     "name": "stdout",
     "output_type": "stream",
     "text": [
      "Epoch: 09 | Time: 0m 38s\n",
      "\tTrain Loss: 1.635 | Train PPL:   5.128\n",
      "\t Val. Loss: 3.266 |  Val. PPL:  26.212\n"
     ]
    },
    {
     "name": "stderr",
     "output_type": "stream",
     "text": [
      "100%|█████████████████████████████████████████████████████████████████████████| 10/10 [06:26<00:00, 38.69s/it]"
     ]
    },
    {
     "name": "stdout",
     "output_type": "stream",
     "text": [
      "Epoch: 10 | Time: 0m 38s\n",
      "\tTrain Loss: 1.501 | Train PPL:   4.488\n",
      "\t Val. Loss: 3.349 |  Val. PPL:  28.467\n"
     ]
    },
    {
     "name": "stderr",
     "output_type": "stream",
     "text": [
      "\n"
     ]
    }
   ],
   "source": [
    "N_EPOCHS = 10\n",
    "CLIP = 1\n",
    "\n",
    "best_valid_loss = float('inf')\n",
    "\n",
    "tr_loss = []\n",
    "va_loss = []\n",
    "tr_ppls = []\n",
    "va_ppls = []\n",
    "for epoch in tqdm(range(N_EPOCHS)):\n",
    "    \n",
    "    start_time = time.time()\n",
    "    \n",
    "    train_loss = train(model, train_iterator, optimizer, criterion, CLIP)\n",
    "    valid_loss = evaluate(model, valid_iterator, criterion)\n",
    "    \n",
    "    end_time = time.time()\n",
    "    \n",
    "    epoch_mins, epoch_secs = epoch_time(start_time, end_time)\n",
    "    \n",
    "    if valid_loss < best_valid_loss:\n",
    "        best_valid_loss = valid_loss\n",
    "        torch.save(model.state_dict(), './checkpoint/tut3-model.pt')\n",
    "    \n",
    "    print(f'Epoch: {epoch+1:02} | Time: {epoch_mins}m {epoch_secs}s')\n",
    "    print(f'\\tTrain Loss: {train_loss:.3f} | Train PPL: {math.exp(train_loss):7.3f}')\n",
    "    print(f'\\t Val. Loss: {valid_loss:.3f} |  Val. PPL: {math.exp(valid_loss):7.3f}')\n",
    "    tr_loss.append(train_loss); va_loss.append(valid_loss)\n",
    "    tr_ppls.append(math.exp(train_loss)); va_ppls.append(math.exp(valid_loss))"
   ]
  },
  {
   "cell_type": "markdown",
   "metadata": {
    "id": "yALskg3B4IGf"
   },
   "source": [
    "Finally, we test the model on the test set using these \"best\" parameters."
   ]
  },
  {
   "cell_type": "markdown",
   "metadata": {},
   "source": [
    "#### Loss & PPL Graph"
   ]
  },
  {
   "cell_type": "code",
   "execution_count": 167,
   "metadata": {
    "tags": []
   },
   "outputs": [
    {
     "data": {
      "text/plain": [
       "<matplotlib.legend.Legend at 0x7f296c47dfa0>"
      ]
     },
     "execution_count": 167,
     "metadata": {},
     "output_type": "execute_result"
    },
    {
     "data": {
      "image/png": "[encoded data removed]",
      "text/plain": [
       "<Figure size 640x480 with 1 Axes>"
      ]
     },
     "metadata": {},
     "output_type": "display_data"
    }
   ],
   "source": [
    "import matplotlib.pyplot as plt\n",
    "\n",
    "plt.plot(range(N_EPOCHS), tr_loss, label=[\"Training loss\"])\n",
    "plt.plot(range(N_EPOCHS), va_loss, label=[\"Validation loss\"])\n",
    "plt.ylabel(\"loss\")\n",
    "plt.xlabel(\"Epoch\")\n",
    "plt.title(\"Loss\")\n",
    "plt.legend()"
   ]
  },
  {
   "attachments": {
    "3be117b7-6bf8-4336-834f-47c0b9f32490.png": {
     "image/png": "[encoded data removed]"
    }
   },
   "cell_type": "markdown",
   "metadata": {},
   "source": [
    "#### PPL = cross-entropy의 exponential\n",
    "\n",
    "![image.png](attachment:3be117b7-6bf8-4336-834f-47c0b9f32490.png)"
   ]
  },
  {
   "cell_type": "code",
   "execution_count": 168,
   "metadata": {
    "tags": []
   },
   "outputs": [
    {
     "data": {
      "text/plain": [
       "<matplotlib.legend.Legend at 0x7f296c616100>"
      ]
     },
     "execution_count": 168,
     "metadata": {},
     "output_type": "execute_result"
    },
    {
     "data": {
      "image/png": "[encoded data removed]",
      "text/plain": [
       "<Figure size 640x480 with 1 Axes>"
      ]
     },
     "metadata": {},
     "output_type": "display_data"
    }
   ],
   "source": [
    "plt.plot(range(N_EPOCHS), tr_ppls, label=[\"Training PPL\"])\n",
    "plt.plot(range(N_EPOCHS), va_ppls, label=[\"Validation PPL\"])\n",
    "plt.ylabel(\"PPL\")\n",
    "plt.xlabel(\"Epoch\")\n",
    "plt.title(\"PPL\")\n",
    "plt.legend()"
   ]
  },
  {
   "cell_type": "code",
   "execution_count": 173,
   "metadata": {
    "tags": []
   },
   "outputs": [
    {
     "data": {
      "text/plain": [
       "7"
      ]
     },
     "execution_count": 173,
     "metadata": {},
     "output_type": "execute_result"
    }
   ],
   "source": [
    "np.array(va_loss).argmin() + 1"
   ]
  },
  {
   "cell_type": "markdown",
   "metadata": {},
   "source": [
    "7epoch에서 가장 낮은 validation loss 계산, 이 때의 weight를 tut3-model.pt에 저장한다.\n",
    "\n",
    "Epoch: 07 | Time: 0m 38s\n",
    "\tTrain Loss: 1.992 | Train PPL:   7.327\n",
    "\t Val. Loss: 3.197 |  Val. PPL:  24.461"
   ]
  },
  {
   "cell_type": "code",
   "execution_count": 146,
   "metadata": {
    "id": "0QVJ5-gW4IGf",
    "outputId": "92e26093-f08e-48ab-96e6-e8cba64806f6",
    "tags": []
   },
   "outputs": [
    {
     "name": "stdout",
     "output_type": "stream",
     "text": [
      "| Test Loss: 3.157 | Test PPL:  23.501 |\n"
     ]
    }
   ],
   "source": [
    "model.load_state_dict(torch.load('./checkpoint/tut3-model.pt'))\n",
    "\n",
    "test_loss = evaluate(model, test_iterator, criterion)\n",
    "\n",
    "print(f'| Test Loss: {test_loss:.3f} | Test PPL: {math.exp(test_loss):7.3f} |')"
   ]
  },
  {
   "cell_type": "markdown",
   "metadata": {},
   "source": []
  },
  {
   "cell_type": "markdown",
   "metadata": {},
   "source": [
    "#### Translate"
   ]
  },
  {
   "cell_type": "code",
   "execution_count": 184,
   "metadata": {
    "tags": []
   },
   "outputs": [
    {
     "name": "stdout",
     "output_type": "stream",
     "text": [
      "['member', 'leaves', 'marx', 'sidewalks', 'chopping', 'grilling', 'wall', 'teeth', 'hid', 'rodeo', 'cooking', 'india', 'lay', 'john', 'grasping', 'balances', 'riders', 'american', 'railroad', 'mask', 'index', 'showers', 'van', 'razor']\n",
      "\n",
      "Translation Sentence\n",
      "member leaves marx sidewalks chopping grilling wall teeth hid rodeo cooking india lay john grasping balances riders american railroad mask index showers van razor\n"
     ]
    }
   ],
   "source": [
    "tr_iterator, va_iterator, te_iterator = BucketIterator.splits(\n",
    "    (train_data, valid_data, test_data), \n",
    "    batch_size = 1,\n",
    "    device = device)\n",
    "\n",
    "for i, batch in enumerate(te_iterator):\n",
    "\n",
    "    src = batch.src\n",
    "    trg = batch.trg\n",
    "\n",
    "    output = model(src, None, 0).squeeze(1) \n",
    "    translation_tensor = torch.argmax(output, 1) \n",
    "    translation = [TRG.vocab.itos[t] for t in translation_tensor][1:] \n",
    "    print(translation)\n",
    "    print(\"\\nTranslation Sentence\")\n",
    "    print(' '.join(translation))\n",
    "    if i >= 0:\n",
    "        break"
   ]
  },
  {
   "cell_type": "code",
   "execution_count": 186,
   "metadata": {
    "tags": []
   },
   "outputs": [
    {
     "data": {
      "text/plain": [
       "(torch.Size([25, 5893]),\n",
       " tensor([[ 0.0000,  0.0000,  0.0000,  ...,  0.0000,  0.0000,  0.0000],\n",
       "         [-0.6447,  0.3384, -0.0285,  ...,  0.1194, -0.0038, -0.5607],\n",
       "         [-0.3241,  0.0576, -0.1372,  ...,  0.0811,  0.2299, -0.3866],\n",
       "         ...,\n",
       "         [-0.0706, -0.6756, -0.2873,  ..., -0.2652,  0.0309, -0.1005],\n",
       "         [-0.0257,  0.3613, -0.4284,  ..., -0.2276,  0.3563,  0.5163],\n",
       "         [-0.3704,  0.4647, -0.0629,  ...,  0.0419, -0.3126, -0.6570]],\n",
       "        device='cuda:1', grad_fn=<SqueezeBackward1>))"
      ]
     },
     "execution_count": 186,
     "metadata": {},
     "output_type": "execute_result"
    }
   ],
   "source": [
    "output.shape, output"
   ]
  },
  {
   "cell_type": "code",
   "execution_count": 187,
   "metadata": {
    "tags": []
   },
   "outputs": [
    {
     "data": {
      "text/plain": [
       "tensor([   0, 1435,  513, 5268, 5616, 1995, 1195,  108,  845, 5105,  560,  461,\n",
       "        2320, 1330, 1897, 2744, 1465, 1096,  327, 1095,  630, 4124, 5609,  809,\n",
       "        2825], device='cuda:1')"
      ]
     },
     "execution_count": 187,
     "metadata": {},
     "output_type": "execute_result"
    }
   ],
   "source": [
    "translation_tensor"
   ]
  },
  {
   "cell_type": "code",
   "execution_count": 176,
   "metadata": {
    "tags": []
   },
   "outputs": [
    {
     "name": "stdout",
     "output_type": "stream",
     "text": [
      ". anstarrt etwas der , hut orangefarbenen einem mit mann ein\n",
      "a man in an orange hat starring at something .\n"
     ]
    }
   ],
   "source": [
    "candidate = ' '.join(vars(test_data.examples[0])['src'][::-1])\n",
    "candidate_translation = ' '.join(vars(test_data.examples[0])['trg'])\n",
    "\n",
    "print(candidate)\n",
    "print(candidate_translation)"
   ]
  },
  {
   "cell_type": "code",
   "execution_count": null,
   "metadata": {},
   "outputs": [],
   "source": [
    "\n"
   ]
  },
  {
   "cell_type": "code",
   "execution_count": null,
   "metadata": {},
   "outputs": [],
   "source": []
  }
 ],
 "metadata": {
  "colab": {
   "provenance": []
  },
  "kernelspec": {
   "display_name": "Python 3 (ipykernel)",
   "language": "python",
   "name": "python3"
  },
  "language_info": {
   "codemirror_mode": {
    "name": "ipython",
    "version": 3
   },
   "file_extension": ".py",
   "mimetype": "text/x-python",
   "name": "python",
   "nbconvert_exporter": "python",
   "pygments_lexer": "ipython3",
   "version": "3.8.16"
  }
 },
 "nbformat": 4,
 "nbformat_minor": 4
}
